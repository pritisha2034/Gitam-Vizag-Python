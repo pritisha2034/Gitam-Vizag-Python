{
 "cells": [
  {
   "cell_type": "markdown",
   "metadata": {},
   "source": [
    "# Programming in Python with String\n",
    "- Strings\n",
    "- String Slicing\n",
    "- Fundamental Programs and examples with string"
   ]
  },
  {
   "cell_type": "code",
   "execution_count": 5,
   "metadata": {},
   "outputs": [
    {
     "name": "stdout",
     "output_type": "stream",
     "text": [
      "python\n",
      "python programming\n",
      "<class 'str'>\n",
      "<class 'str'>\n"
     ]
    }
   ],
   "source": [
    "s='python'\n",
    "s1=\"python programming\"\n",
    "print(s)\n",
    "print(s1)\n",
    "print(type(s))\n",
    "print(type(s1))\n",
    "\n",
    "\n"
   ]
  },
  {
   "cell_type": "code",
   "execution_count": 13,
   "metadata": {},
   "outputs": [
    {
     "name": "stdout",
     "output_type": "stream",
     "text": [
      "p\n",
      "6\n",
      "n\n",
      "o\n",
      "h\n"
     ]
    }
   ],
   "source": [
    "#string slicing\n",
    "s='python'\n",
    "print(s[0])\n",
    "print(len(s))\n",
    "print(s[len(s)-1])\n",
    "print(s[len(s)-2])\n",
    "print(s[-3])"
   ]
  },
  {
   "cell_type": "code",
   "execution_count": 28,
   "metadata": {},
   "outputs": [
    {
     "name": "stdout",
     "output_type": "stream",
     "text": [
      "py\n",
      "hon\n",
      "tho\n",
      "ytho\n",
      "py\n",
      "nohtyp\n",
      "pto\n",
      "ph\n",
      "nhy\n",
      "pyth\n"
     ]
    }
   ],
   "source": [
    "s='python'\n",
    "print(s[0:2])\n",
    "print(s[-3:])\n",
    "print(s[2:5])\n",
    "print(s[1:-1])\n",
    "print(s[0:2])\n",
    "print(s[-1::-1])\n",
    "print(s[::2])\n",
    "print(s[::3])\n",
    "print(s[::-2])\n",
    "print(s[:-2])"
   ]
  },
  {
   "cell_type": "code",
   "execution_count": 29,
   "metadata": {},
   "outputs": [
    {
     "data": {
      "text/plain": [
       "'nohtyp'"
      ]
     },
     "execution_count": 29,
     "metadata": {},
     "output_type": "execute_result"
    }
   ],
   "source": [
    "#reverse the string\n",
    "def rev(a):\n",
    "    return(a[-1::-1])\n",
    "rev('python')"
   ]
  },
  {
   "cell_type": "code",
   "execution_count": 30,
   "metadata": {},
   "outputs": [
    {
     "name": "stdout",
     "output_type": "stream",
     "text": [
      "False\n",
      "True\n"
     ]
    }
   ],
   "source": [
    "#To check the given number is pallindrome or not\n",
    "def pallindrome(s):\n",
    "    if s==s[-1::-1]:\n",
    "        return True\n",
    "    return False\n",
    "print(pallindrome('python'))\n",
    "print(pallindrome('ganag'))"
   ]
  },
  {
   "cell_type": "code",
   "execution_count": 40,
   "metadata": {},
   "outputs": [
    {
     "name": "stdout",
     "output_type": "stream",
     "text": [
      "P T "
     ]
    }
   ],
   "source": [
    "#function to print the uppercase characters\n",
    "#ASCII CODE\n",
    "#A-Z=65-90\n",
    "#a-z=97-122\n",
    "#0-9=48-57\n",
    "#space=32\n",
    "\n",
    "def printUpper(s):\n",
    "    for i in range(len(s)):\n",
    "        if ord(s[i]) >= 65 and ord(s[i]) <= 90:\n",
    "            print(s[i],end=' ')\n",
    "    return\n",
    "printUpper('PyThon')"
   ]
  },
  {
   "cell_type": "code",
   "execution_count": 55,
   "metadata": {},
   "outputs": [
    {
     "data": {
      "text/plain": [
       "'Programming'"
      ]
     },
     "execution_count": 55,
     "metadata": {},
     "output_type": "execute_result"
    }
   ],
   "source": [
    "#function to return the output as 'samecount' or 'programming'\n",
    "#samecount---lower and upper case have same count\n",
    "#programming--- count of upper and lower case is not same\n",
    "#example #1 :PyThOn---3 P T O\n",
    "                   #---3 y h n\n",
    "def samecount(s):\n",
    "    l=0\n",
    "    u=0\n",
    "    for i in range(len(s)):\n",
    "        if ord(s[i]) >= 65 and ord(s[i]) <= 90 :\n",
    "            u=u+1\n",
    "        else:\n",
    "            l=l+1\n",
    "    if(l==u):\n",
    "        return \"Samecount\"\n",
    "    else:\n",
    "        return \"Programming\"\n",
    "samecount('PYThOn')\n",
    "\n"
   ]
  },
  {
   "cell_type": "code",
   "execution_count": 68,
   "metadata": {},
   "outputs": [
    {
     "name": "stdout",
     "output_type": "stream",
     "text": [
      "6 9 7 "
     ]
    }
   ],
   "source": [
    "#Function to extract the digits from the string\n",
    "#example #1 \n",
    "#input---PPLICA6TI9O7N\n",
    "#OUTPUT-6 9 7\n",
    "def number(s):\n",
    "    for i in range(len(s)):\n",
    "        if ord(s[i]) >= 48 and ord(s[i]) <= 57:\n",
    "            print(s[i],end=' ')\n",
    "    return\n",
    "number('pplica6ti9o7n')\n"
   ]
  },
  {
   "cell_type": "code",
   "execution_count": 71,
   "metadata": {},
   "outputs": [
    {
     "data": {
      "text/plain": [
       "22"
      ]
     },
     "execution_count": 71,
     "metadata": {},
     "output_type": "execute_result"
    }
   ],
   "source": [
    "#add the digits of function\n",
    "def number(s):\n",
    "    s1=0\n",
    "    for i in range(len(s)):\n",
    "        if ord(s[i]) >= 48 and ord(s[i]) <= 57:\n",
    "            s1=s1+int(s[i]) #OR #s1=s1+(ord(s[i])-48)\n",
    "    return s1\n",
    "number('pplica6ti9o7n')\n"
   ]
  },
  {
   "cell_type": "code",
   "execution_count": 75,
   "metadata": {},
   "outputs": [
    {
     "name": "stdout",
     "output_type": "stream",
     "text": [
      "M A D E "
     ]
    }
   ],
   "source": [
    "#function to print 2nd word in upper case\n",
    "def wordUpperCase(s):\n",
    "    cntspace=0\n",
    "    for i in range(len(s)):\n",
    "        if(ord(s[i])==32):\n",
    "            cntspace = cntspace+1\n",
    "        if cntspace==1:\n",
    "            if ord(s[i]) >= 65 and ord(s[i]) <= 90:\n",
    "                print(s[i],end=' ')\n",
    "            elif ord(s[i]) >= 97 and ord(s[i]) <= 122:\n",
    "                print(chr(ord(s[i])-32),end=' ')\n",
    "        if cntspace==2:\n",
    "            break\n",
    "    return\n",
    "wordUpperCase('Python Made Easy')"
   ]
  },
  {
   "cell_type": "markdown",
   "metadata": {},
   "source": [
    "# List\n",
    "- one of the Data Structure in python\n",
    "- Ds means to store,sort and search options\n",
    "- it's one common Ds in python,the items of list separated by comma and enclosed in square brackets[]\n",
    "  - example\n",
    "    - list1=[1,2,3,4,5]\n",
    "    - list2=[\"Gitam\",1,2,1,89,\"vizag\"]\n",
    "\n"
   ]
  },
  {
   "cell_type": "code",
   "execution_count": 89,
   "metadata": {},
   "outputs": [
    {
     "name": "stdout",
     "output_type": "stream",
     "text": [
      "[1, 2, 3, 4, 5]\n",
      "1\n",
      "2\n",
      "3\n",
      "4\n",
      "5\n",
      "[5, 4, 3, 2, 1]\n",
      "[4, 2]\n",
      "[5, 4, 3, 2, 1]\n",
      "[5, 2]\n",
      "4\n"
     ]
    }
   ],
   "source": [
    "li=[1,2,3,4,5]\n",
    "print(li)\n",
    "print(li[0])\n",
    "print(li[1])\n",
    "print(li[2])\n",
    "print(li[3])\n",
    "print(li[4])\n",
    "print(li[-1::-1])\n",
    "print(li[-2::-2])\n",
    "print(li[::-1])\n",
    "print(li[::-3])\n",
    "print(li[-2])"
   ]
  },
  {
   "cell_type": "code",
   "execution_count": 92,
   "metadata": {},
   "outputs": [
    {
     "name": "stdout",
     "output_type": "stream",
     "text": [
      "['Gitam', 1234, 2018, 2019, 2020]\n",
      "['Gitam', 2017, 2018, 2019, 2020]\n"
     ]
    }
   ],
   "source": [
    "#to update the item in the list\n",
    "li=['Gitam',1234,2018,2019,2020]\n",
    "print(li)\n",
    "li[1]=2017\n",
    "print(li)"
   ]
  },
  {
   "cell_type": "code",
   "execution_count": 91,
   "metadata": {},
   "outputs": [
    {
     "name": "stdout",
     "output_type": "stream",
     "text": [
      "['Gitam', 2017, 2018, 2020]\n"
     ]
    }
   ],
   "source": [
    "#to delete the item from the list\n",
    "del li[3]\n",
    "print(li)"
   ]
  },
  {
   "cell_type": "code",
   "execution_count": 101,
   "metadata": {
    "scrolled": true
   },
   "outputs": [
    {
     "name": "stdout",
     "output_type": "stream",
     "text": [
      "5\n",
      "[1, 2, 3, 4, 5, 1, 2, 3, 4, 5]\n",
      "True\n",
      "False\n",
      "1 2 3 4 5 \n",
      "1 2 3 4 5 "
     ]
    }
   ],
   "source": [
    "#Basic list operations\n",
    "l=[1,2,3,4,5]\n",
    "#length of the list\n",
    "print(len(l))\n",
    "#list repitation\n",
    "print(l*2)\n",
    "#to know the creation item is present in the list or not\n",
    "print(4 in l)\n",
    "print(10 in l)\n",
    "#Access the list items from the iterations\n",
    "#1 way to define\n",
    "for i in range(len(l)):\n",
    "    print(l[i],end=' ')\n",
    "print()\n",
    "#2nd way to define\n",
    "for i in l:\n",
    "    print(i,end=' ')"
   ]
  },
  {
   "cell_type": "code",
   "execution_count": 105,
   "metadata": {},
   "outputs": [
    {
     "name": "stdout",
     "output_type": "stream",
     "text": [
      "25\n",
      "1\n",
      "56\n",
      "11\n"
     ]
    }
   ],
   "source": [
    "#Basic list functions\n",
    "li=[1,9,16,25,5]\n",
    "print(max(li))\n",
    "print(min(li))\n",
    "print(sum(li))\n",
    "print(sum(li)//len(li))"
   ]
  },
  {
   "cell_type": "code",
   "execution_count": 107,
   "metadata": {},
   "outputs": [
    {
     "data": {
      "text/plain": [
       "2"
      ]
     },
     "execution_count": 107,
     "metadata": {},
     "output_type": "execute_result"
    }
   ],
   "source": [
    "#methods of list\n",
    "li=[1,9,16,25,5]\n",
    "li.append(29)\n",
    "li.insert(2,56)\n",
    "li.append(9)\n",
    "li.count(9)\n",
    "li.index(56)"
   ]
  },
  {
   "cell_type": "code",
   "execution_count": 124,
   "metadata": {},
   "outputs": [
    {
     "data": {
      "text/plain": [
       "7"
      ]
     },
     "execution_count": 124,
     "metadata": {},
     "output_type": "execute_result"
    }
   ],
   "source": [
    "#method of list object\n",
    "li=[1,4,2,7,3]\n",
    "li.sort()\n",
    "li.pop()"
   ]
  },
  {
   "cell_type": "code",
   "execution_count": 127,
   "metadata": {},
   "outputs": [
    {
     "name": "stdout",
     "output_type": "stream",
     "text": [
      "54\n",
      "43\n"
     ]
    }
   ],
   "source": [
    "#function to return the large number from the list\n",
    "def largeNumber(li):\n",
    "    li.sort()\n",
    "    return li[-1]\n",
    "def genericLarge(li,n):\n",
    "    li.sort()\n",
    "    return li[-n]\n",
    "li=[7,3,5,4,32,43,54]\n",
    "print(largeNumber(li))\n",
    "print(genericLarge(li,2))"
   ]
  },
  {
   "cell_type": "code",
   "execution_count": 134,
   "metadata": {},
   "outputs": [
    {
     "name": "stdout",
     "output_type": "stream",
     "text": [
      "3\n",
      "7\n"
     ]
    }
   ],
   "source": [
    "#function to return the least number from list\n",
    "def leastNumber(li):\n",
    "    li.sort()\n",
    "    return li[0]\n",
    "def genericLeast(li,n):\n",
    "    li.sort()\n",
    "    return li[n-1]\n",
    "li=[7,3,5,4,32,43,54]\n",
    "print(leastNumber(li))\n",
    "print(genericLeast(li,4))"
   ]
  },
  {
   "cell_type": "markdown",
   "metadata": {},
   "source": [
    "# File handling in python\n",
    "- File - document which contains some information and resides on permanent devices\n",
    "- Different types of file -- .txt,.pdf,.doc,.ppt...etc\n",
    "- Input --- Keyboard\n",
    "- output--- file system\n"
   ]
  },
  {
   "cell_type": "code",
   "execution_count": 148,
   "metadata": {},
   "outputs": [
    {
     "name": "stdout",
     "output_type": "stream",
     "text": [
      "File is succesfully created and Data has inserted\n"
     ]
    }
   ],
   "source": [
    "#function to create file and write some data to the file\n",
    "#Mode--w(It creates the file ans write to the same data),if also the file is present with the same name it will replace it\n",
    "def createFile(filename):\n",
    "    f=open(filename,'w')\n",
    "    for i in range (10):\n",
    "        f.write('This is %d Line \\n'%i)\n",
    "    print('File is succesfully created and Data has inserted')\n",
    "    return\n",
    "createFile('data.txt')"
   ]
  },
  {
   "cell_type": "code",
   "execution_count": 137,
   "metadata": {},
   "outputs": [
    {
     "data": {
      "text/plain": [
       "'C:\\\\Users\\\\Rupali'"
      ]
     },
     "execution_count": 137,
     "metadata": {},
     "output_type": "execute_result"
    }
   ],
   "source": [
    "pwd"
   ]
  },
  {
   "cell_type": "code",
   "execution_count": 144,
   "metadata": {},
   "outputs": [
    {
     "name": "stdout",
     "output_type": "stream",
     "text": [
      "Completed successfully\n"
     ]
    }
   ],
   "source": [
    "def createFile(filename):\n",
    "    f=open(filename,'w')\n",
    "    f.write('Gitam vizag python training')\n",
    "    print('Completed successfully')\n",
    "    return\n",
    "createFile('data.txt')"
   ]
  },
  {
   "cell_type": "code",
   "execution_count": 149,
   "metadata": {},
   "outputs": [
    {
     "name": "stdout",
     "output_type": "stream",
     "text": [
      "program Completed successfully\n"
     ]
    }
   ],
   "source": [
    "def appendMode(filename):\n",
    "    f=open(filename,'a')\n",
    "    f.write('Gitam vizag \\n')\n",
    "    f.write('python programming\\n')\n",
    "    print('program Completed successfully')\n",
    "    return\n",
    "appendMode('data.txt')"
   ]
  },
  {
   "cell_type": "code",
   "execution_count": null,
   "metadata": {},
   "outputs": [],
   "source": []
  },
  {
   "cell_type": "code",
   "execution_count": 150,
   "metadata": {},
   "outputs": [
    {
     "name": "stdout",
     "output_type": "stream",
     "text": [
      "This is 0 Line \n",
      "This is 1 Line \n",
      "This is 2 Line \n",
      "This is 3 Line \n",
      "This is 4 Line \n",
      "This is 5 Line \n",
      "This is 6 Line \n",
      "This is 7 Line \n",
      "This is 8 Line \n",
      "This is 9 Line \n",
      "Gitam vizag \n",
      "python programming\n",
      "\n"
     ]
    }
   ],
   "source": [
    "#function to read the file\n",
    "def readFileData(filename):\n",
    "    f=open(filename,'r')\n",
    "    if f.mode =='r':\n",
    "        a=f.read()\n",
    "        print(a)\n",
    "    f.close()\n",
    "    return\n",
    "readFileData('data.txt')\n",
    "            \n",
    "\n"
   ]
  },
  {
   "cell_type": "code",
   "execution_count": null,
   "metadata": {},
   "outputs": [],
   "source": [
    "#Analysis on the file--wordcount,charcount,digitcount"
   ]
  },
  {
   "cell_type": "code",
   "execution_count": 151,
   "metadata": {},
   "outputs": [
    {
     "data": {
      "text/plain": [
       "44"
      ]
     },
     "execution_count": 151,
     "metadata": {},
     "output_type": "execute_result"
    }
   ],
   "source": [
    "#word count\n",
    "def wordcount(filename):\n",
    "    with open(filename,'r')as f:\n",
    "        if(f.mode=='r'):\n",
    "            a=f.read()\n",
    "            li=a.split()\n",
    "    return len(li)\n",
    "wordcount('data.txt')"
   ]
  },
  {
   "cell_type": "code",
   "execution_count": 159,
   "metadata": {},
   "outputs": [
    {
     "data": {
      "text/plain": [
       "10"
      ]
     },
     "execution_count": 159,
     "metadata": {},
     "output_type": "execute_result"
    }
   ],
   "source": [
    "#specific word count from the file\n",
    "def specificwordcnt(filename,word):\n",
    "    with open(filename,'r')as f:\n",
    "        if(f.mode=='r'):\n",
    "            a=f.read()\n",
    "            li=a.split()\n",
    "    return li.count(word)\n",
    "specificwordcnt('data.txt','This')\n"
   ]
  },
  {
   "cell_type": "code",
   "execution_count": 162,
   "metadata": {},
   "outputs": [
    {
     "data": {
      "text/plain": [
       "192"
      ]
     },
     "execution_count": 162,
     "metadata": {},
     "output_type": "execute_result"
    }
   ],
   "source": [
    "#character count\n",
    "def charcount(filename):\n",
    "    with open(filename,'r')as f:\n",
    "        if(f.mode=='r'):\n",
    "            a=f.read()\n",
    "            li=list(a)\n",
    "    return len(li)\n",
    "charcount('data.txt')\n"
   ]
  },
  {
   "cell_type": "code",
   "execution_count": 163,
   "metadata": {},
   "outputs": [
    {
     "data": {
      "text/plain": [
       "13"
      ]
     },
     "execution_count": 163,
     "metadata": {},
     "output_type": "execute_result"
    }
   ],
   "source": [
    "#line count\n",
    "def linecount(filename):\n",
    "    with open(filename,'r')as f:\n",
    "        if(f.mode=='r'):\n",
    "            a=f.read()\n",
    "            li=a.split('\\n')\n",
    "    return len(li)\n",
    "linecount('data.txt')\n"
   ]
  },
  {
   "cell_type": "code",
   "execution_count": 171,
   "metadata": {},
   "outputs": [
    {
     "data": {
      "text/plain": [
       "'upper case:21 lower case:106 digit:10'"
      ]
     },
     "execution_count": 171,
     "metadata": {},
     "output_type": "execute_result"
    }
   ],
   "source": [
    "#upper and lowercase count\n",
    "def uplocount(filename):\n",
    "    cu = cl = cd = 0\n",
    "    with open(filename,'r')as f:\n",
    "        if(f.mode=='r'):\n",
    "            a=f.read()\n",
    "            li=list(a)\n",
    "    for i in li:\n",
    "        if ord(i) >= 65 and ord(i) <= 90 :\n",
    "            cu=cu+1\n",
    "        elif ord(i) >= 97 and ord(i) <= 122:\n",
    "            cl=cl+1\n",
    "        elif ord(i) >= 48 and ord(i) <= 57:\n",
    "            cd=cd+1\n",
    "    output='upper case:{0} lower case:{1} digit:{2}'.format(cu,cl,cd)\n",
    "    return output\n",
    "uplocount('data.txt')\n"
   ]
  },
  {
   "cell_type": "code",
   "execution_count": null,
   "metadata": {},
   "outputs": [],
   "source": []
  },
  {
   "cell_type": "code",
   "execution_count": null,
   "metadata": {},
   "outputs": [],
   "source": []
  },
  {
   "cell_type": "code",
   "execution_count": null,
   "metadata": {},
   "outputs": [],
   "source": []
  },
  {
   "cell_type": "code",
   "execution_count": null,
   "metadata": {},
   "outputs": [],
   "source": []
  },
  {
   "cell_type": "code",
   "execution_count": null,
   "metadata": {},
   "outputs": [],
   "source": []
  },
  {
   "cell_type": "code",
   "execution_count": null,
   "metadata": {},
   "outputs": [],
   "source": []
  },
  {
   "cell_type": "code",
   "execution_count": null,
   "metadata": {},
   "outputs": [],
   "source": []
  }
 ],
 "metadata": {
  "kernelspec": {
   "display_name": "Python 3",
   "language": "python",
   "name": "python3"
  },
  "language_info": {
   "codemirror_mode": {
    "name": "ipython",
    "version": 3
   },
   "file_extension": ".py",
   "mimetype": "text/x-python",
   "name": "python",
   "nbconvert_exporter": "python",
   "pygments_lexer": "ipython3",
   "version": "3.7.3"
  }
 },
 "nbformat": 4,
 "nbformat_minor": 2
}
