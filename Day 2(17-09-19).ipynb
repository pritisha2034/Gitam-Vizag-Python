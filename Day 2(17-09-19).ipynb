{
 "cells": [
  {
   "cell_type": "code",
   "execution_count": 4,
   "metadata": {},
   "outputs": [
    {
     "name": "stdout",
     "output_type": "stream",
     "text": [
      "Enter a number20\n",
      "1 2 3 4 5 6 7 8 9 10 11 12 13 14 15 16 17 18 19 20 "
     ]
    }
   ],
   "source": [
    "#print numbers 1 to n\n",
    "n=int(input('Enter a number'))\n",
    "i=1\n",
    "while(i<=n):\n",
    "    print(i,end=' ') \n",
    "    i=i+1"
   ]
  },
  {
   "cell_type": "code",
   "execution_count": 6,
   "metadata": {},
   "outputs": [
    {
     "name": "stdout",
     "output_type": "stream",
     "text": [
      "Enter a number20\n",
      "110 "
     ]
    }
   ],
   "source": [
    "#print sum of even numbers from 1 to n\n",
    "n=int(input('Enter a number'))\n",
    "i=1\n",
    "s=0\n",
    "while(i<=n):\n",
    "    if(i%2==0):\n",
    "        s=s+i\n",
    "    i=i+1\n",
    "print(s,end=' ')"
   ]
  },
  {
   "cell_type": "code",
   "execution_count": 9,
   "metadata": {},
   "outputs": [
    {
     "name": "stdout",
     "output_type": "stream",
     "text": [
      "enter a number76589\n",
      "9 8 5 6 7 "
     ]
    }
   ],
   "source": [
    "#reverse of the given number\n",
    "n=int(input('enter a number'))\n",
    "while(n!=0):\n",
    "    print(n%10,end=' ')\n",
    "    n=n//10"
   ]
  },
  {
   "cell_type": "markdown",
   "metadata": {},
   "source": [
    "# Functional Programming\n",
    "## Syntax\n",
    "def nameofthefunction(parameters):\n",
    "  statements\n",
    "return value"
   ]
  },
  {
   "cell_type": "code",
   "execution_count": 2,
   "metadata": {},
   "outputs": [
    {
     "data": {
      "text/plain": [
       "12"
      ]
     },
     "execution_count": 2,
     "metadata": {},
     "output_type": "execute_result"
    }
   ],
   "source": [
    "#print the sum of even numners using function\n",
    "def even(n):\n",
    "    s=0\n",
    "    while(n!=0):\n",
    "        r=n%10\n",
    "        if r%2==0:\n",
    "            s=s+r\n",
    "        n=n // 10\n",
    "    return s\n",
    "even(123456)"
   ]
  },
  {
   "cell_type": "code",
   "execution_count": 8,
   "metadata": {},
   "outputs": [
    {
     "data": {
      "text/plain": [
       "9"
      ]
     },
     "execution_count": 8,
     "metadata": {},
     "output_type": "execute_result"
    }
   ],
   "source": [
    "#print the largest number\n",
    "def large(n):\n",
    "    l=0\n",
    "    while(n>0):\n",
    "        temp=n%10\n",
    "        if(temp>l):\n",
    "            l=temp\n",
    "        n=n//10\n",
    "    return(l)\n",
    "large(54987)\n",
    "        "
   ]
  },
  {
   "cell_type": "code",
   "execution_count": 9,
   "metadata": {},
   "outputs": [
    {
     "name": "stdout",
     "output_type": "stream",
     "text": [
      "yes\n",
      "No\n"
     ]
    }
   ],
   "source": [
    "#output as yes or no,yes for 145 and no for 123\n",
    "def fact(n):\n",
    "    f=1\n",
    "    i=1\n",
    "    while(i<=n):\n",
    "        f=f*i\n",
    "        i=i+1\n",
    "    return f\n",
    "def digitFactorialSum(n):\n",
    "    s=0\n",
    "    buffer=n\n",
    "    while(n!=0):\n",
    "        r=n%10\n",
    "        s+=fact(r)\n",
    "        n=n//10\n",
    "    if buffer==s:\n",
    "        return \"yes\"\n",
    "    else:\n",
    "        return\"No\"\n",
    "    return\n",
    "print(digitFactorialSum(145))\n",
    "print(digitFactorialSum(123))\n",
    "        "
   ]
  },
  {
   "cell_type": "code",
   "execution_count": 13,
   "metadata": {},
   "outputs": [
    {
     "name": "stdout",
     "output_type": "stream",
     "text": [
      "The number is a palindrome\n",
      "The number isn't a palindrome\n"
     ]
    }
   ],
   "source": [
    "def pallindrome(n):\n",
    "    temp=n\n",
    "    rev=0\n",
    "    while(n>0):\n",
    "        dig=n%10\n",
    "        rev=rev*10+dig\n",
    "        n=n//10\n",
    "    if(temp==rev):\n",
    "        print(\"The number is a palindrome\")\n",
    "    else:\n",
    "        print(\"The number isn't a palindrome\")\n",
    "pallindrome(121)\n",
    "pallindrome(123)"
   ]
  },
  {
   "cell_type": "code",
   "execution_count": 20,
   "metadata": {},
   "outputs": [
    {
     "name": "stdout",
     "output_type": "stream",
     "text": [
      "11 12 13 14 15 16 17 18 19 20 21 22 23 24 25 "
     ]
    }
   ],
   "source": [
    "#print the numbers between two limits\n",
    "def limit(lb,ub):\n",
    "    for i in range(lb,ub+1):\n",
    "        print(i,end=' ')\n",
    "    return\n",
    "limit(11,25)\n",
    "        \n",
    "        "
   ]
  },
  {
   "cell_type": "code",
   "execution_count": 22,
   "metadata": {},
   "outputs": [
    {
     "name": "stdout",
     "output_type": "stream",
     "text": [
      "500 504 508 512 516 520 "
     ]
    }
   ],
   "source": [
    "def alternateNumbers(lb,ub):\n",
    "    for x in range(lb,ub+1,4):\n",
    "        print(x,end=' ')\n",
    "    return\n",
    "alternateNumbers(500,520)"
   ]
  },
  {
   "cell_type": "code",
   "execution_count": null,
   "metadata": {},
   "outputs": [],
   "source": []
  },
  {
   "cell_type": "code",
   "execution_count": null,
   "metadata": {},
   "outputs": [],
   "source": []
  },
  {
   "cell_type": "code",
   "execution_count": null,
   "metadata": {},
   "outputs": [],
   "source": []
  },
  {
   "cell_type": "code",
   "execution_count": null,
   "metadata": {},
   "outputs": [],
   "source": []
  }
 ],
 "metadata": {
  "kernelspec": {
   "display_name": "Python 3",
   "language": "python",
   "name": "python3"
  }
 },
 "nbformat": 4,
 "nbformat_minor": 2
}
