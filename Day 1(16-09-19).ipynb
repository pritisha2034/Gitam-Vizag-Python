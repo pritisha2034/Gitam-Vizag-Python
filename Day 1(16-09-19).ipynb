{
 "cells": [
  {
   "cell_type": "markdown",
   "metadata": {},
   "source": [
    "# Python Programming and Markdown\n",
    "## python programming and markdown\n",
    "### python programming and markdown\n"
   ]
  },
  {
   "cell_type": "markdown",
   "metadata": {},
   "source": [
    "* **point1**\n",
    "* *point1*\n",
    "* ***point1***"
   ]
  },
  {
   "cell_type": "markdown",
   "metadata": {},
   "source": [
    "- point1\n",
    " - point 1.1"
   ]
  },
  {
   "cell_type": "markdown",
   "metadata": {},
   "source": [
    "### Adding The Linking to Markdown\n",
    "* Google site - [google][1]\n",
    "[1]:https//www.google.com/"
   ]
  },
  {
   "cell_type": "markdown",
   "metadata": {},
   "source": [
    "### Python Programming\n",
    "- python version 3.7\n",
    "- Functional Programming\n",
    "- Object Oreinted Programming\n",
    "- Scripting Programming"
   ]
  },
  {
   "cell_type": "code",
   "execution_count": 1,
   "metadata": {},
   "outputs": [
    {
     "name": "stdout",
     "output_type": "stream",
     "text": [
      "Hello Gitam\n"
     ]
    }
   ],
   "source": [
    "print(\"Hello Gitam\")"
   ]
  },
  {
   "cell_type": "code",
   "execution_count": 2,
   "metadata": {},
   "outputs": [
    {
     "name": "stdout",
     "output_type": "stream",
     "text": [
      "Hello Gitam\n",
      "vizag\n"
     ]
    }
   ],
   "source": [
    "print(\"Hello Gitam\")\n",
    "print(\"vizag\")"
   ]
  },
  {
   "cell_type": "code",
   "execution_count": 3,
   "metadata": {},
   "outputs": [
    {
     "name": "stdout",
     "output_type": "stream",
     "text": [
      "Hello Gitam ||| vizag\n"
     ]
    }
   ],
   "source": [
    "print(\"Hello Gitam\", '|||' ,end=' ')\n",
    "print(\"vizag\")"
   ]
  },
  {
   "cell_type": "markdown",
   "metadata": {},
   "source": [
    "### Data type and Data type conversion\n",
    "- int\n",
    "- float\n",
    "- string"
   ]
  },
  {
   "cell_type": "markdown",
   "metadata": {},
   "source": []
  },
  {
   "cell_type": "code",
   "execution_count": 9,
   "metadata": {},
   "outputs": [
    {
     "name": "stdout",
     "output_type": "stream",
     "text": [
      "10097459025461\n",
      "python programming\n",
      "100.1\n",
      "<class 'int'>\n",
      "<class 'str'>\n",
      "<class 'float'>\n"
     ]
    }
   ],
   "source": [
    "a=10097459025461\n",
    "s='python programming'\n",
    "f=100.1\n",
    "print(a)\n",
    "print(s)\n",
    "print(f)\n",
    "print(type(a))\n",
    "print(type(s))\n",
    "print(type(f))"
   ]
  },
  {
   "cell_type": "markdown",
   "metadata": {},
   "source": [
    "### Data type conversions\n",
    "- int()\n",
    "- float()\n",
    "- str()"
   ]
  },
  {
   "cell_type": "code",
   "execution_count": 12,
   "metadata": {},
   "outputs": [
    {
     "name": "stdout",
     "output_type": "stream",
     "text": [
      "100<class 'int'>\n",
      "100<class 'str'>\n"
     ]
    }
   ],
   "source": [
    "a=100\n",
    "print(a,end='')\n",
    "print(type(a))\n",
    "s1= str(a)\n",
    "print(s1,end='')\n",
    "print(type(s1))\n",
    "\n"
   ]
  },
  {
   "cell_type": "code",
   "execution_count": 13,
   "metadata": {},
   "outputs": [
    {
     "name": "stdout",
     "output_type": "stream",
     "text": [
      "100.321<class 'float'>\n",
      "100.321<class 'str'>\n"
     ]
    }
   ],
   "source": [
    "a=100.321\n",
    "print(a,end='')\n",
    "print(type(a))\n",
    "s1= str(a)\n",
    "print(s1,end='')\n",
    "print(type(s1))\n"
   ]
  },
  {
   "cell_type": "code",
   "execution_count": 20,
   "metadata": {},
   "outputs": [
    {
     "name": "stdout",
     "output_type": "stream",
     "text": [
      "700<class 'str'>\n",
      "700 <class 'int'>\n"
     ]
    }
   ],
   "source": [
    "a=\"700\"\n",
    "print(a,end='')\n",
    "print(type(a))\n",
    "s1= int(a)\n",
    "print(s1,end=' ')\n",
    "print(type(s1))\n"
   ]
  },
  {
   "cell_type": "code",
   "execution_count": null,
   "metadata": {},
   "outputs": [],
   "source": []
  },
  {
   "cell_type": "code",
   "execution_count": null,
   "metadata": {},
   "outputs": [],
   "source": []
  },
  {
   "cell_type": "code",
   "execution_count": 15,
   "metadata": {},
   "outputs": [
    {
     "name": "stdout",
     "output_type": "stream",
     "text": [
      "100<class 'str'>\n",
      "100 <class 'int'>\n"
     ]
    }
   ],
   "source": [
    "a='100'\n",
    "print(a,end='')\n",
    "print(type(a))\n",
    "s1= int(a)\n",
    "print(s1,end=' ')\n",
    "print(type(s1))\n"
   ]
  },
  {
   "cell_type": "code",
   "execution_count": 16,
   "metadata": {},
   "outputs": [
    {
     "name": "stdout",
     "output_type": "stream",
     "text": [
      "100.378<class 'str'>\n",
      "100.378 <class 'float'>\n"
     ]
    }
   ],
   "source": [
    "a='100.378'\n",
    "print(a,end='')\n",
    "print(type(a))\n",
    "s1= float(a)\n",
    "print(s1,end=' ')\n",
    "print(type(s1))\n"
   ]
  },
  {
   "cell_type": "code",
   "execution_count": 18,
   "metadata": {},
   "outputs": [
    {
     "name": "stdout",
     "output_type": "stream",
     "text": [
      "100.768<class 'float'>\n",
      "100 <class 'int'>\n"
     ]
    }
   ],
   "source": [
    "a=100.768\n",
    "print(a,end='')\n",
    "print(type(a))\n",
    "s1= int(a)\n",
    "print(s1,end=' ')\n",
    "print(type(s1))\n"
   ]
  },
  {
   "cell_type": "markdown",
   "metadata": {},
   "source": [
    "### Digit count of a number"
   ]
  },
  {
   "cell_type": "code",
   "execution_count": 22,
   "metadata": {},
   "outputs": [
    {
     "name": "stdout",
     "output_type": "stream",
     "text": [
      "27\n"
     ]
    }
   ],
   "source": [
    "a=123423489765450875322366777\n",
    "print(len(str(a)))"
   ]
  },
  {
   "cell_type": "markdown",
   "metadata": {},
   "source": [
    "### input() function\n",
    "- Read the input to the python program\n",
    "- Reads the input in terms of string format"
   ]
  },
  {
   "cell_type": "code",
   "execution_count": 23,
   "metadata": {},
   "outputs": [
    {
     "name": "stdout",
     "output_type": "stream",
     "text": [
      "enter your namepritisha patnaik\n",
      "pritisha patnaik <class 'str'>\n"
     ]
    }
   ],
   "source": [
    "s1=input('enter your name')\n",
    "print(s1,type(s1))"
   ]
  },
  {
   "cell_type": "code",
   "execution_count": 25,
   "metadata": {},
   "outputs": [
    {
     "name": "stdout",
     "output_type": "stream",
     "text": [
      "enter a number100\n",
      "100 <class 'int'>\n"
     ]
    }
   ],
   "source": [
    "s1=int(input('enter a number'))\n",
    "print(s1,type(s1))"
   ]
  },
  {
   "cell_type": "code",
   "execution_count": 2,
   "metadata": {},
   "outputs": [
    {
     "name": "stdout",
     "output_type": "stream",
     "text": [
      "enter a decimal number100.564\n",
      "100.564 <class 'float'>\n"
     ]
    }
   ],
   "source": [
    "s1=float(input('enter a decimal number'))\n",
    "print(s1,type(s1))"
   ]
  },
  {
   "cell_type": "markdown",
   "metadata": {},
   "source": [
    "### Operators"
   ]
  },
  {
   "cell_type": "code",
   "execution_count": 6,
   "metadata": {},
   "outputs": [
    {
     "name": "stdout",
     "output_type": "stream",
     "text": [
      "3.3333333333333335\n",
      "3\n",
      "8\n"
     ]
    }
   ],
   "source": [
    "print(10/3)\n",
    "print(10//3)\n",
    "print(2**3)"
   ]
  },
  {
   "cell_type": "code",
   "execution_count": 9,
   "metadata": {},
   "outputs": [
    {
     "name": "stdout",
     "output_type": "stream",
     "text": [
      "8.0\n"
     ]
    }
   ],
   "source": [
    "#power,division,addition\n",
    "x=1+2**3/4+5\n",
    "print(x)"
   ]
  },
  {
   "cell_type": "markdown",
   "metadata": {},
   "source": [
    "### Logical Operators\n",
    "- and\n",
    "- or\n",
    "- not"
   ]
  },
  {
   "cell_type": "code",
   "execution_count": 15,
   "metadata": {},
   "outputs": [
    {
     "name": "stdout",
     "output_type": "stream",
     "text": [
      "True <class 'bool'>\n",
      "True <class 'bool'>\n"
     ]
    }
   ],
   "source": [
    "a=10\n",
    "b=(a>9) and (a>=10)\n",
    "print(b,type(b))\n",
    "b=(a>9)or(a>10)\n",
    "print(b,type(b))"
   ]
  },
  {
   "cell_type": "markdown",
   "metadata": {},
   "source": [
    "### control flow statements\n",
    "- conditional statements\n",
    " - if-else\n",
    "- Looping statements\n",
    " - while\n",
    " - for"
   ]
  },
  {
   "cell_type": "code",
   "execution_count": 17,
   "metadata": {},
   "outputs": [
    {
     "name": "stdout",
     "output_type": "stream",
     "text": [
      "enter a number10\n",
      "even\n"
     ]
    }
   ],
   "source": [
    "#Read a number as input and print the input as even or odd\n",
    "a=int(input('enter a number'))\n",
    "if(a%2==0):\n",
    "    print('even')\n",
    "else:\n",
    "    print('odd')"
   ]
  },
  {
   "cell_type": "code",
   "execution_count": 19,
   "metadata": {},
   "outputs": [
    {
     "name": "stdout",
     "output_type": "stream",
     "text": [
      "enter a number4\n",
      "positive number\n"
     ]
    }
   ],
   "source": [
    "#positive,negative or zero\n",
    "a=int(input('enter a number'))\n",
    "if(a==0):\n",
    "    print('zero')\n",
    "elif(a>0):\n",
    "    print(\"positive number\")\n",
    "elif(a<0):\n",
    "    print(\"negative number\")"
   ]
  },
  {
   "cell_type": "code",
   "execution_count": null,
   "metadata": {},
   "outputs": [],
   "source": []
  },
  {
   "cell_type": "code",
   "execution_count": null,
   "metadata": {},
   "outputs": [],
   "source": []
  },
  {
   "cell_type": "code",
   "execution_count": null,
   "metadata": {},
   "outputs": [],
   "source": []
  },
  {
   "cell_type": "code",
   "execution_count": null,
   "metadata": {},
   "outputs": [],
   "source": []
  },
  {
   "cell_type": "code",
   "execution_count": null,
   "metadata": {},
   "outputs": [],
   "source": []
  },
  {
   "cell_type": "code",
   "execution_count": null,
   "metadata": {},
   "outputs": [],
   "source": []
  },
  {
   "cell_type": "code",
   "execution_count": null,
   "metadata": {},
   "outputs": [],
   "source": []
  },
  {
   "cell_type": "code",
   "execution_count": null,
   "metadata": {},
   "outputs": [],
   "source": []
  },
  {
   "cell_type": "code",
   "execution_count": null,
   "metadata": {},
   "outputs": [],
   "source": []
  },
  {
   "cell_type": "code",
   "execution_count": null,
   "metadata": {},
   "outputs": [],
   "source": []
  },
  {
   "cell_type": "code",
   "execution_count": null,
   "metadata": {},
   "outputs": [],
   "source": []
  }
 ],
 "metadata": {
  "kernelspec": {
   "display_name": "Python 3",
   "language": "python",
   "name": "python3"
  },
  "language_info": {
   "codemirror_mode": {
    "name": "ipython",
    "version": 3
   },
   "file_extension": ".py",
   "mimetype": "text/x-python",
   "name": "python",
   "nbconvert_exporter": "python",
   "pygments_lexer": "ipython3",
   "version": "3.7.3"
  }
 },
 "nbformat": 4,
 "nbformat_minor": 2
}
